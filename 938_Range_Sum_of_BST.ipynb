{
 "cells": [
  {
   "cell_type": "markdown",
   "metadata": {},
   "source": [
    "# https://leetcode.com/problems/range-sum-of-bst/"
   ]
  },
  {
   "cell_type": "code",
   "execution_count": 29,
   "metadata": {},
   "outputs": [],
   "source": [
    "from typing import Optional\n",
    "class TreeNode:\n",
    "    def __init__(self, val=0, left=None, right=None):\n",
    "        self.val = val\n",
    "        self.left = left\n",
    "        self.right = right\n",
    "\n",
    "def creatBTree(data, index):\n",
    "    pNode = None\n",
    "    if index < len(data):\n",
    "        if data[index] == None:\n",
    "            return\n",
    "        pNode = TreeNode(data[index])\n",
    "        pNode.left = creatBTree(data, 2 * index + 1) # [1, 3, 7, 15, ...]\n",
    "        pNode.right = creatBTree(data, 2 * index + 2) # [2, 5, 12, 25, ...]\n",
    "    return pNode "
   ]
  },
  {
   "cell_type": "code",
   "execution_count": 21,
   "metadata": {},
   "outputs": [],
   "source": [
    "class Solution:\n",
    "    def rangeSumBST(self, root: Optional[TreeNode], low: int, high: int) -> int:\n",
    "        if not root:\n",
    "            return 0\n",
    "        sum = 0\n",
    "        if root.val > low:\n",
    "            sum += self.rangeSumBST(root.left, low, high)\n",
    "        if root.val < high:\n",
    "            sum += self.rangeSumBST(root.right, low, high)\n",
    "        if low <= root.val <= high:\n",
    "            sum += root.val     \n",
    "        return sum"
   ]
  },
  {
   "cell_type": "code",
   "execution_count": 30,
   "metadata": {},
   "outputs": [
    {
     "name": "stdout",
     "output_type": "stream",
     "text": [
      "23\n"
     ]
    }
   ],
   "source": [
    "root = [10,5,15,3,7,13,18,1,None,6] \n",
    "low = 6 \n",
    "high = 10\n",
    "root = creatBTree(root, 0)\n",
    "print(Solution().rangeSumBST(root, low, high))"
   ]
  }
 ],
 "metadata": {
  "interpreter": {
   "hash": "a86ff4ae3ee3a1b21f325b1ece796c8b39c5652a82900a8a39a5348e73740373"
  },
  "kernelspec": {
   "display_name": "Python 3.9.7 64-bit",
   "language": "python",
   "name": "python3"
  },
  "language_info": {
   "codemirror_mode": {
    "name": "ipython",
    "version": 3
   },
   "file_extension": ".py",
   "mimetype": "text/x-python",
   "name": "python",
   "nbconvert_exporter": "python",
   "pygments_lexer": "ipython3",
   "version": "3.9.7"
  },
  "orig_nbformat": 4
 },
 "nbformat": 4,
 "nbformat_minor": 2
}
