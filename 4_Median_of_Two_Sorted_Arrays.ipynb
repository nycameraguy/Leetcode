{
 "cells": [
  {
   "cell_type": "markdown",
   "metadata": {},
   "source": [
    "# https://leetcode.com/problems/median-of-two-sorted-arrays/"
   ]
  },
  {
   "cell_type": "code",
   "execution_count": 7,
   "metadata": {},
   "outputs": [],
   "source": [
    "from typing import List"
   ]
  },
  {
   "cell_type": "code",
   "execution_count": null,
   "metadata": {},
   "outputs": [],
   "source": [
    "class Solution:\n",
    "    def findMedianSortedArrays(self, nums1: List[int], nums2: List[int]) -> float:\n",
    "        merged_array = []\n",
    "        m = len(nums1)\n",
    "        n = len(nums2)\n",
    "        i, j = 0, 0\n",
    "        \n",
    "        if m == 0:\n",
    "            merged_array = nums2\n",
    "        elif n == 0:\n",
    "            merged_array = nums1\n",
    "        else:\n",
    "            while i < m  and j < n:\n",
    "                if nums1[i] < nums2[j]:\n",
    "                    merged_array.append(nums1[i])\n",
    "                    i += 1\n",
    "                else:\n",
    "                    merged_array.append(nums2[j])\n",
    "                    j += 1\n",
    "            merged_array = merged_array + nums1[i:] + nums2[j:]\n",
    "        \n",
    "        index = len(merged_array)//2\n",
    "        \n",
    "        if len(merged_array) % 2 != 0:\n",
    "            return float(merged_array[index])\n",
    "        else:\n",
    "            return float((merged_array[index - 1] + merged_array[index])/2)"
   ]
  },
  {
   "cell_type": "code",
   "execution_count": 69,
   "metadata": {},
   "outputs": [
    {
     "name": "stdout",
     "output_type": "stream",
     "text": [
      "2.0\n"
     ]
    }
   ],
   "source": [
    "nums1 = [1,3]\n",
    "nums2 = [2]\n",
    "print(Solution().findMedianSortedArrays(nums1, nums2))"
   ]
  },
  {
   "cell_type": "code",
   "execution_count": 70,
   "metadata": {},
   "outputs": [
    {
     "name": "stdout",
     "output_type": "stream",
     "text": [
      "2.5\n"
     ]
    }
   ],
   "source": [
    "nums1 = [1,2]\n",
    "nums2 = [3,4]\n",
    "print(Solution().findMedianSortedArrays(nums1, nums2))"
   ]
  },
  {
   "cell_type": "code",
   "execution_count": 71,
   "metadata": {},
   "outputs": [
    {
     "name": "stdout",
     "output_type": "stream",
     "text": [
      "3.0\n"
     ]
    }
   ],
   "source": [
    "nums1 = []\n",
    "nums2 = [1,2,3,4,5]\n",
    "\n",
    "print(Solution().findMedianSortedArrays(nums1, nums2))"
   ]
  }
 ],
 "metadata": {
  "interpreter": {
   "hash": "a86ff4ae3ee3a1b21f325b1ece796c8b39c5652a82900a8a39a5348e73740373"
  },
  "kernelspec": {
   "display_name": "Python 3.9.7 64-bit",
   "language": "python",
   "name": "python3"
  },
  "language_info": {
   "codemirror_mode": {
    "name": "ipython",
    "version": 3
   },
   "file_extension": ".py",
   "mimetype": "text/x-python",
   "name": "python",
   "nbconvert_exporter": "python",
   "pygments_lexer": "ipython3",
   "version": "3.9.7"
  },
  "orig_nbformat": 4
 },
 "nbformat": 4,
 "nbformat_minor": 2
}
